{
 "cells": [
  {
   "cell_type": "code",
   "execution_count": 2,
   "id": "96f59990-e13c-4172-bd21-a3b8f2c81efa",
   "metadata": {},
   "outputs": [],
   "source": [
    "from datetime import datetime\n",
    "\n",
    "# Dataset \n",
    "records = []\n",
    "\n",
    "# Record-structure:\n",
    "# {\n",
    "#   \"title\": str,\n",
    "#   \"uri\": str,\n",
    "#   \"tags\": list[str],\n",
    "#   \"created_at\": str (ISO),\n",
    "#   \"accessed_at\": str (ISO)\n",
    "# }\n",
    "\n",
    "def add_record(title, uri, tags):\n",
    "    if not title or not uri or not tags:\n",
    "        print(\"Fout: Title, URI and tags are mandatory.\")\n",
    "        return\n",
    "    if len(tags) < 1 or len(tags) > 5:\n",
    "        print(\"Fout: You need to provide betwee 1 and 5 tags.\")\n",
    "        return\n",
    "\n",
    "    timestamp = datetime.now().isoformat()\n",
    "    record = {\n",
    "        \"title\": title,\n",
    "        \"uri\": uri,\n",
    "        \"tags\": tags,\n",
    "        \"created_at\": timestamp,\n",
    "        \"accessed_at\": timestamp\n",
    "    }\n",
    "    records.append(record)\n",
    "    print(f\"✅ Record added: {title}\")"
   ]
  },
  {
   "cell_type": "code",
   "execution_count": 3,
   "id": "d5afc8c2-c47c-4f0c-b15e-be63414c1919",
   "metadata": {},
   "outputs": [
    {
     "name": "stdout",
     "output_type": "stream",
     "text": [
      "✅ Record toegevoegd: Testlink\n"
     ]
    }
   ],
   "source": [
    "add_record(\"Testlink\", \"https://www.thecodingcompany.nl\", [\"ai\", \"datastructures\"])\n"
   ]
  },
  {
   "cell_type": "code",
   "execution_count": 5,
   "id": "b069558f-2341-4391-b6a2-40ecd8a2769f",
   "metadata": {},
   "outputs": [
    {
     "name": "stdout",
     "output_type": "stream",
     "text": [
      "[{'title': 'Testlink', 'uri': 'https://www.thecodingcompany.nl', 'tags': ['ai', 'datastructures'], 'created_at': '2025-04-01T09:54:51.199519', 'accessed_at': '2025-04-01T09:54:51.199519'}]\n"
     ]
    }
   ],
   "source": [
    "print(records)\n"
   ]
  },
  {
   "cell_type": "code",
   "execution_count": 6,
   "id": "ea1adce2-6902-4119-84bd-42a2749ae54c",
   "metadata": {},
   "outputs": [],
   "source": [
    "def delete_by_uri(uri):\n",
    "    global records\n",
    "    found = False\n",
    "    for i, record in enumerate(records):\n",
    "        if record[\"uri\"] == uri:\n",
    "            confirm = input(f\"Are you sure you want to remove '{record['title']}' ? (yes/no): \")\n",
    "            if confirm.lower() == \"yes\":\n",
    "                del records[i]\n",
    "                print(\"🗑️ Record deleted.\")\n",
    "            else:\n",
    "                print(\"❌ Cancelled deleting.\")\n",
    "            found = True\n",
    "            break\n",
    "    if not found:\n",
    "        print(\"⚠️ No record foudn with this URI.\")\n",
    "\n"
   ]
  },
  {
   "cell_type": "code",
   "execution_count": 7,
   "id": "6579ee7b-e008-4d7a-b0e8-b329aab60beb",
   "metadata": {},
   "outputs": [],
   "source": [
    "def search_by_tag(tag):\n",
    "    results = []\n",
    "    for record in records:\n",
    "        if tag in record[\"tags\"]:\n",
    "            results.append(record)\n",
    "    print(f\"Found {len(results)} record(s) with tag '{tag}':\")\n",
    "    for r in results:\n",
    "        print(f\"- {r['title']} ({r['uri']})\")\n",
    "\n"
   ]
  },
  {
   "cell_type": "code",
   "execution_count": 8,
   "id": "bf395e23-e529-4658-8d31-1a5ab44ff77f",
   "metadata": {},
   "outputs": [],
   "source": [
    "def sort_by_created_at_desc():\n",
    "    sorted_records = sorted(records, key=lambda x: x[\"created_at\"], reverse=True)\n",
    "    print(\"📋 Records sorted by created_at (newest first):\")\n",
    "    for r in sorted_records:\n",
    "        print(f\"- {r['created_at']} | {r['title']} ({r['uri']})\")\n",
    "\n"
   ]
  },
  {
   "cell_type": "code",
   "execution_count": 9,
   "id": "370ba085-d1f4-4d3c-9df3-fe843ff990f9",
   "metadata": {},
   "outputs": [
    {
     "name": "stdout",
     "output_type": "stream",
     "text": [
      "Gevonden 1 record(s) met tag 'ai':\n",
      "- Testlink (https://www.thecodingcompany.nl)\n"
     ]
    }
   ],
   "source": [
    "search_by_tag('ai');\n"
   ]
  },
  {
   "cell_type": "code",
   "execution_count": 10,
   "id": "bcdc41fe-6aa6-47e9-b344-897c5a9944ca",
   "metadata": {},
   "outputs": [],
   "source": [
    "def search_by_tags_any(tags):\n",
    "    results = []\n",
    "    for record in records:\n",
    "        if any(tag in record[\"tags\"] for tag in tags):\n",
    "            results.append(record)\n",
    "    print(f\"Found {len(results)} record(s) matching at least one tag:\")\n",
    "    for r in results:\n",
    "        print(f\"- {r['title']} ({r['uri']})\")"
   ]
  },
  {
   "cell_type": "code",
   "execution_count": 11,
   "id": "f72cd892-a497-433c-80a9-3cf1306b4aaf",
   "metadata": {},
   "outputs": [],
   "source": [
    "def search_by_tags_all(tags):\n",
    "    results = []\n",
    "    for record in records:\n",
    "        if all(tag in record[\"tags\"] for tag in tags):\n",
    "            results.append(record)\n",
    "    print(f\"Found {len(results)} record(s) matching all tags:\")\n",
    "    for r in results:\n",
    "        print(f\"- {r['title']} ({r['uri']})\")"
   ]
  },
  {
   "cell_type": "code",
   "execution_count": 16,
   "id": "44fc9ff0-5a68-4735-9cc9-47c28516cedc",
   "metadata": {},
   "outputs": [
    {
     "name": "stdout",
     "output_type": "stream",
     "text": [
      "No records found matching any of the given tags.\n"
     ]
    }
   ],
   "source": [
    "search_by_tags_any('datastructures')\n"
   ]
  },
  {
   "cell_type": "code",
   "execution_count": 13,
   "id": "862fc399-dd46-4323-a18e-0c409f0b7be3",
   "metadata": {},
   "outputs": [
    {
     "name": "stdout",
     "output_type": "stream",
     "text": [
      "Found 0 record(s) matching at least one tag:\n"
     ]
    }
   ],
   "source": [
    "search_by_tags_any('ai')\n"
   ]
  },
  {
   "cell_type": "code",
   "execution_count": 14,
   "id": "a6d0b72b-9338-4c1e-8f84-e64f8ac2fe94",
   "metadata": {},
   "outputs": [
    {
     "name": "stdout",
     "output_type": "stream",
     "text": [
      "[{'title': 'Testlink', 'uri': 'https://www.thecodingcompany.nl', 'tags': ['ai', 'datastructures'], 'created_at': '2025-04-01T09:54:51.199519', 'accessed_at': '2025-04-01T09:54:51.199519'}]\n"
     ]
    }
   ],
   "source": [
    "print(records)\n"
   ]
  },
  {
   "cell_type": "code",
   "execution_count": 15,
   "id": "abd0e77f-47c8-44ff-8cd0-6029eba1c6e8",
   "metadata": {},
   "outputs": [],
   "source": [
    "def search_by_tags_any(tags):\n",
    "    results = []\n",
    "    for record in records:\n",
    "        for tag in tags:\n",
    "            if tag.lower() in [t.lower() for t in record[\"tags\"]]:\n",
    "                results.append(record)\n",
    "                break  # Stop after first match\n",
    "    if results:\n",
    "        print(f\"Found {len(results)} record(s) matching at least one tag:\")\n",
    "        for r in results:\n",
    "            print(f\"- {r['title']} ({r['uri']})\")\n",
    "    else:\n",
    "        print(\"No records found matching any of the given tags.\")\n",
    "        "
   ]
  },
  {
   "cell_type": "code",
   "execution_count": 18,
   "id": "565fbe61-20e8-451f-a5cb-2c83b500c9ef",
   "metadata": {},
   "outputs": [
    {
     "name": "stdout",
     "output_type": "stream",
     "text": [
      "Found 1 record(s) matching at least one tag:\n",
      "- Testlink (https://www.thecodingcompany.nl)\n"
     ]
    }
   ],
   "source": [
    "search_by_tags_any(['datastructures'])\n"
   ]
  },
  {
   "cell_type": "code",
   "execution_count": 19,
   "id": "8c6fd142-f917-4cab-b1c2-6cd2098ad3a7",
   "metadata": {},
   "outputs": [
    {
     "name": "stdout",
     "output_type": "stream",
     "text": [
      "Found 1 record(s) matching all tags:\n",
      "- Testlink (https://www.thecodingcompany.nl)\n"
     ]
    }
   ],
   "source": [
    "search_by_tags_all(['ai'])\n"
   ]
  },
  {
   "cell_type": "code",
   "execution_count": 20,
   "id": "0cf77d92-c7ef-445d-8dd3-7933e0d81495",
   "metadata": {},
   "outputs": [],
   "source": [
    "def main_menu():\n",
    "    while True:\n",
    "        print(\"\\n=== Interest Book Menu ===\")\n",
    "        print(\"1. Add a new record\")\n",
    "        print(\"2. Delete a record by URI\")\n",
    "        print(\"3. Search by a single tag\")\n",
    "        print(\"4. Search by multiple tags (any match)\")\n",
    "        print(\"5. Search by multiple tags (all must match)\")\n",
    "        print(\"6. Search by keyword (title or tags)\")\n",
    "        print(\"7. Sort and display by creation date (newest first)\")\n",
    "        print(\"8. Edit an existing record\")\n",
    "        print(\"9. View all records\")\n",
    "        print(\"0. Exit\")\n",
    "\n",
    "        choice = input(\"Select an option (0–9): \")\n",
    "\n",
    "        if choice == \"1\":\n",
    "            title = input(\"Title: \")\n",
    "            uri = input(\"URI: \")\n",
    "            tags_input = input(\"Enter 1–5 tags, separated by commas: \")\n",
    "            tags = [tag.strip() for tag in tags_input.split(\",\")]\n",
    "            add_record(title, uri, tags)\n",
    "\n",
    "        elif choice == \"2\":\n",
    "            uri = input(\"Enter URI of the record to delete: \")\n",
    "            delete_by_uri(uri)\n",
    "\n",
    "        elif choice == \"3\":\n",
    "            tag = input(\"Enter tag to search for: \")\n",
    "            search_by_tag(tag)\n",
    "\n",
    "        elif choice == \"4\":\n",
    "            tags = input(\"Enter tags (comma-separated): \").split(\",\")\n",
    "            search_by_tags_any([tag.strip() for tag in tags])\n",
    "\n",
    "        elif choice == \"5\":\n",
    "            tags = input(\"Enter tags (comma-separated): \").split(\",\")\n",
    "            search_by_tags_all([tag.strip() for tag in tags])\n",
    "\n",
    "        elif choice == \"6\":\n",
    "            keyword = input(\"Enter keyword to search in title or tags: \")\n",
    "            search_by_keyword(keyword)\n",
    "\n",
    "        elif choice == \"7\":\n",
    "            sort_by_created_at_desc()\n",
    "\n",
    "        elif choice == \"8\":\n",
    "            uri = input(\"Enter URI of the record to edit: \")\n",
    "            new_title = input(\"New title (leave blank to keep current): \")\n",
    "            new_tags_input = input(\"Enter new tags (comma-separated, leave blank to keep current): \")\n",
    "            new_tags = [t.strip() for t in new_tags_input.split(\",\")] if new_tags_input else []\n",
    "            edit_record(uri, new_title, new_tags)\n",
    "\n",
    "        elif choice == \"9\":\n",
    "            print(\"📄 Current records:\")\n",
    "            for r in records:\n",
    "                print(f\"- {r['title']} ({r['uri']}) – Tags: {r['tags']}\")\n",
    "\n",
    "        elif choice == \"0\":\n",
    "            print(\"👋 Exiting Interest Book. Goodbye!\")\n",
    "            break\n",
    "\n",
    "        else:\n",
    "            print(\"⚠️ Invalid choice. Please select a number from 0 to 9.\")"
   ]
  },
  {
   "cell_type": "code",
   "execution_count": 21,
   "id": "3adec52b-57b7-44d8-991e-ed3e2e269c59",
   "metadata": {},
   "outputs": [
    {
     "name": "stdout",
     "output_type": "stream",
     "text": [
      "\n",
      "=== Interest Book Menu ===\n",
      "1. Add a new record\n",
      "2. Delete a record by URI\n",
      "3. Search by a single tag\n",
      "4. Search by multiple tags (any match)\n",
      "5. Search by multiple tags (all must match)\n",
      "6. Search by keyword (title or tags)\n",
      "7. Sort and display by creation date (newest first)\n",
      "8. Edit an existing record\n",
      "9. View all records\n",
      "0. Exit\n"
     ]
    },
    {
     "name": "stdin",
     "output_type": "stream",
     "text": [
      "Select an option (0–9):  1\n",
      "Title:  Testing for Essex\n",
      "URI:  https://my-course.co.uk\n",
      "Enter 1–5 tags, separated by commas:  computer science, python, programming\n"
     ]
    },
    {
     "name": "stdout",
     "output_type": "stream",
     "text": [
      "✅ Record toegevoegd: Testing for Essex\n",
      "\n",
      "=== Interest Book Menu ===\n",
      "1. Add a new record\n",
      "2. Delete a record by URI\n",
      "3. Search by a single tag\n",
      "4. Search by multiple tags (any match)\n",
      "5. Search by multiple tags (all must match)\n",
      "6. Search by keyword (title or tags)\n",
      "7. Sort and display by creation date (newest first)\n",
      "8. Edit an existing record\n",
      "9. View all records\n",
      "0. Exit\n"
     ]
    },
    {
     "name": "stdin",
     "output_type": "stream",
     "text": [
      "Select an option (0–9):  3\n",
      "Enter tag to search for:  programming\n"
     ]
    },
    {
     "name": "stdout",
     "output_type": "stream",
     "text": [
      "Gevonden 1 record(s) met tag 'programming':\n",
      "- Testing for Essex (https://my-course.co.uk)\n",
      "\n",
      "=== Interest Book Menu ===\n",
      "1. Add a new record\n",
      "2. Delete a record by URI\n",
      "3. Search by a single tag\n",
      "4. Search by multiple tags (any match)\n",
      "5. Search by multiple tags (all must match)\n",
      "6. Search by keyword (title or tags)\n",
      "7. Sort and display by creation date (newest first)\n",
      "8. Edit an existing record\n",
      "9. View all records\n",
      "0. Exit\n"
     ]
    },
    {
     "name": "stdin",
     "output_type": "stream",
     "text": [
      "Select an option (0–9):  2\n",
      "Enter URI of the record to delete:  https://thecodingcompany.nl\n"
     ]
    },
    {
     "name": "stdout",
     "output_type": "stream",
     "text": [
      "⚠️ Geen record gevonden met deze URI.\n",
      "\n",
      "=== Interest Book Menu ===\n",
      "1. Add a new record\n",
      "2. Delete a record by URI\n",
      "3. Search by a single tag\n",
      "4. Search by multiple tags (any match)\n",
      "5. Search by multiple tags (all must match)\n",
      "6. Search by keyword (title or tags)\n",
      "7. Sort and display by creation date (newest first)\n",
      "8. Edit an existing record\n",
      "9. View all records\n",
      "0. Exit\n"
     ]
    },
    {
     "name": "stdin",
     "output_type": "stream",
     "text": [
      "Select an option (0–9):  9\n"
     ]
    },
    {
     "name": "stdout",
     "output_type": "stream",
     "text": [
      "📄 Current records:\n",
      "- Testlink (https://www.thecodingcompany.nl) – Tags: ['ai', 'datastructures']\n",
      "- Testing for Essex (https://my-course.co.uk) – Tags: ['computer science', 'python', 'programming']\n",
      "\n",
      "=== Interest Book Menu ===\n",
      "1. Add a new record\n",
      "2. Delete a record by URI\n",
      "3. Search by a single tag\n",
      "4. Search by multiple tags (any match)\n",
      "5. Search by multiple tags (all must match)\n",
      "6. Search by keyword (title or tags)\n",
      "7. Sort and display by creation date (newest first)\n",
      "8. Edit an existing record\n",
      "9. View all records\n",
      "0. Exit\n"
     ]
    },
    {
     "name": "stdin",
     "output_type": "stream",
     "text": [
      "Select an option (0–9):  2\n",
      "Enter URI of the record to delete:  https://www.thecodingcompany.nl\n",
      "Weet je zeker dat je het record 'Testlink' wilt verwijderen? (ja/nee):  ja\n"
     ]
    },
    {
     "name": "stdout",
     "output_type": "stream",
     "text": [
      "🗑️ Record verwijderd.\n",
      "\n",
      "=== Interest Book Menu ===\n",
      "1. Add a new record\n",
      "2. Delete a record by URI\n",
      "3. Search by a single tag\n",
      "4. Search by multiple tags (any match)\n",
      "5. Search by multiple tags (all must match)\n",
      "6. Search by keyword (title or tags)\n",
      "7. Sort and display by creation date (newest first)\n",
      "8. Edit an existing record\n",
      "9. View all records\n",
      "0. Exit\n"
     ]
    },
    {
     "name": "stdin",
     "output_type": "stream",
     "text": [
      "Select an option (0–9):  9\n"
     ]
    },
    {
     "name": "stdout",
     "output_type": "stream",
     "text": [
      "📄 Current records:\n",
      "- Testing for Essex (https://my-course.co.uk) – Tags: ['computer science', 'python', 'programming']\n",
      "\n",
      "=== Interest Book Menu ===\n",
      "1. Add a new record\n",
      "2. Delete a record by URI\n",
      "3. Search by a single tag\n",
      "4. Search by multiple tags (any match)\n",
      "5. Search by multiple tags (all must match)\n",
      "6. Search by keyword (title or tags)\n",
      "7. Sort and display by creation date (newest first)\n",
      "8. Edit an existing record\n",
      "9. View all records\n",
      "0. Exit\n"
     ]
    },
    {
     "name": "stdin",
     "output_type": "stream",
     "text": [
      "Select an option (0–9):  1\n",
      "Title:  https://www.python.org\n",
      "URI:  https://www.python.org\n",
      "Enter 1–5 tags, separated by commas:  programming, python, computer science\n"
     ]
    },
    {
     "name": "stdout",
     "output_type": "stream",
     "text": [
      "✅ Record toegevoegd: https://www.python.org\n",
      "\n",
      "=== Interest Book Menu ===\n",
      "1. Add a new record\n",
      "2. Delete a record by URI\n",
      "3. Search by a single tag\n",
      "4. Search by multiple tags (any match)\n",
      "5. Search by multiple tags (all must match)\n",
      "6. Search by keyword (title or tags)\n",
      "7. Sort and display by creation date (newest first)\n",
      "8. Edit an existing record\n",
      "9. View all records\n",
      "0. Exit\n"
     ]
    },
    {
     "name": "stdin",
     "output_type": "stream",
     "text": [
      "Select an option (0–9):  9\n"
     ]
    },
    {
     "name": "stdout",
     "output_type": "stream",
     "text": [
      "📄 Current records:\n",
      "- Testing for Essex (https://my-course.co.uk) – Tags: ['computer science', 'python', 'programming']\n",
      "- https://www.python.org (https://www.python.org) – Tags: ['programming', 'python', 'computer science']\n",
      "\n",
      "=== Interest Book Menu ===\n",
      "1. Add a new record\n",
      "2. Delete a record by URI\n",
      "3. Search by a single tag\n",
      "4. Search by multiple tags (any match)\n",
      "5. Search by multiple tags (all must match)\n",
      "6. Search by keyword (title or tags)\n",
      "7. Sort and display by creation date (newest first)\n",
      "8. Edit an existing record\n",
      "9. View all records\n",
      "0. Exit\n"
     ]
    },
    {
     "name": "stdin",
     "output_type": "stream",
     "text": [
      "Select an option (0–9):  9\n"
     ]
    },
    {
     "name": "stdout",
     "output_type": "stream",
     "text": [
      "📄 Current records:\n",
      "- Testing for Essex (https://my-course.co.uk) – Tags: ['computer science', 'python', 'programming']\n",
      "- https://www.python.org (https://www.python.org) – Tags: ['programming', 'python', 'computer science']\n",
      "\n",
      "=== Interest Book Menu ===\n",
      "1. Add a new record\n",
      "2. Delete a record by URI\n",
      "3. Search by a single tag\n",
      "4. Search by multiple tags (any match)\n",
      "5. Search by multiple tags (all must match)\n",
      "6. Search by keyword (title or tags)\n",
      "7. Sort and display by creation date (newest first)\n",
      "8. Edit an existing record\n",
      "9. View all records\n",
      "0. Exit\n"
     ]
    },
    {
     "name": "stdin",
     "output_type": "stream",
     "text": [
      "Select an option (0–9):  0\n"
     ]
    },
    {
     "name": "stdout",
     "output_type": "stream",
     "text": [
      "👋 Exiting Interest Book. Goodbye!\n"
     ]
    }
   ],
   "source": [
    "main_menu()\n"
   ]
  },
  {
   "cell_type": "code",
   "execution_count": 22,
   "id": "3871a469-6f0f-4e8d-a583-7c87abfb07b9",
   "metadata": {},
   "outputs": [
    {
     "name": "stdout",
     "output_type": "stream",
     "text": [
      "TEST 1: Add a valid record\n",
      "✅ Record toegevoegd: Machine Learning Basics\n",
      "Current dataset:\n",
      "- Testing for Essex | Tags: ['computer science', 'python', 'programming']\n",
      "- https://www.python.org | Tags: ['programming', 'python', 'computer science']\n",
      "- Machine Learning Basics | Tags: ['ai', 'ml', 'education']\n"
     ]
    }
   ],
   "source": [
    "print(\"TEST 1: Add a valid record\")\n",
    "add_record(\"Machine Learning Basics\", \"https://ml-basics.org\", [\"ai\", \"ml\", \"education\"])\n",
    "print(\"Current dataset:\")\n",
    "for r in records:\n",
    "    print(f\"- {r['title']} | Tags: {r['tags']}\")"
   ]
  },
  {
   "cell_type": "code",
   "execution_count": 23,
   "id": "e418bcef-0931-42e5-9b32-e8c8b6519483",
   "metadata": {},
   "outputs": [
    {
     "name": "stdout",
     "output_type": "stream",
     "text": [
      "TEST 2: Add a record with more than 5 tags (should fail)\n",
      "Fout: Je moet tussen de 1 en 5 tags gebruiken.\n"
     ]
    }
   ],
   "source": [
    "print(\"TEST 2: Add a record with more than 5 tags (should fail)\")\n",
    "add_record(\"Too Many Tags\", \"https://toomanytags.com\", [\"tag1\", \"tag2\", \"tag3\", \"tag4\", \"tag5\", \"tag6\"])\n"
   ]
  },
  {
   "cell_type": "code",
   "execution_count": 26,
   "id": "d1d7cd5c-3771-486d-a828-be68a504e072",
   "metadata": {},
   "outputs": [
    {
     "name": "stdout",
     "output_type": "stream",
     "text": [
      "✅ Record toegevoegd: Software Development\n"
     ]
    }
   ],
   "source": [
    "add_record(\"Software Development\", \"https://thecodingcompany.nl\", [\"ai\", \"programming\", \"development\"])"
   ]
  },
  {
   "cell_type": "code",
   "execution_count": 27,
   "id": "9003dcb1-dcf1-4f97-a627-ded1e28de12f",
   "metadata": {},
   "outputs": [
    {
     "name": "stdout",
     "output_type": "stream",
     "text": [
      "TEST 3: Search by existing tag 'ai'\n",
      "Gevonden 2 record(s) met tag 'ai':\n",
      "- Machine Learning Basics (https://ml-basics.org)\n",
      "- Software Development (https://thecodingcompany.nl)\n"
     ]
    }
   ],
   "source": [
    "print(\"TEST 3: Search by existing tag 'ai'\")\n",
    "search_by_tag(\"ai\")"
   ]
  },
  {
   "cell_type": "code",
   "execution_count": 28,
   "id": "1d1604cb-7042-43fd-86b3-2f40602037d6",
   "metadata": {},
   "outputs": [
    {
     "name": "stdout",
     "output_type": "stream",
     "text": [
      "TEST 4: Search by non-existent tag 'quantum'\n",
      "Gevonden 0 record(s) met tag 'quantum':\n"
     ]
    }
   ],
   "source": [
    "print(\"TEST 4: Search by non-existent tag 'quantum'\")\n",
    "search_by_tag(\"quantum\")"
   ]
  },
  {
   "cell_type": "code",
   "execution_count": 29,
   "id": "64a451ed-3ade-4bcb-a0f2-22a56731f00f",
   "metadata": {},
   "outputs": [
    {
     "name": "stdout",
     "output_type": "stream",
     "text": [
      "TEST 5: Search by multiple tags (any match: 'ai', 'education')\n",
      "Found 2 record(s) matching at least one tag:\n",
      "- Machine Learning Basics (https://ml-basics.org)\n",
      "- Software Development (https://thecodingcompany.nl)\n"
     ]
    }
   ],
   "source": [
    "print(\"TEST 5: Search by multiple tags (any match: 'ai', 'education')\")\n",
    "search_by_tags_any([\"ai\", \"education\"])"
   ]
  },
  {
   "cell_type": "code",
   "execution_count": 30,
   "id": "0078c51b-ad2b-41ba-aada-022821067933",
   "metadata": {},
   "outputs": [
    {
     "name": "stdout",
     "output_type": "stream",
     "text": [
      "TEST 6: Search by multiple tags (all must match: 'ai', 'ml')\n",
      "Found 1 record(s) matching all tags:\n",
      "- Machine Learning Basics (https://ml-basics.org)\n"
     ]
    }
   ],
   "source": [
    "print(\"TEST 6: Search by multiple tags (all must match: 'ai', 'ml')\")\n",
    "search_by_tags_all([\"ai\", \"ml\"])"
   ]
  },
  {
   "cell_type": "code",
   "execution_count": 31,
   "id": "c45eecc3-3260-4162-8984-fea9ffe52646",
   "metadata": {},
   "outputs": [
    {
     "name": "stdout",
     "output_type": "stream",
     "text": [
      "TEST 7: Search by keyword 'learning'\n"
     ]
    },
    {
     "ename": "NameError",
     "evalue": "name 'search_by_keyword' is not defined",
     "output_type": "error",
     "traceback": [
      "\u001b[31m---------------------------------------------------------------------------\u001b[39m",
      "\u001b[31mNameError\u001b[39m                                 Traceback (most recent call last)",
      "\u001b[36mCell\u001b[39m\u001b[36m \u001b[39m\u001b[32mIn[31]\u001b[39m\u001b[32m, line 2\u001b[39m\n\u001b[32m      1\u001b[39m \u001b[38;5;28mprint\u001b[39m(\u001b[33m\"\u001b[39m\u001b[33mTEST 7: Search by keyword \u001b[39m\u001b[33m'\u001b[39m\u001b[33mlearning\u001b[39m\u001b[33m'\u001b[39m\u001b[33m\"\u001b[39m)\n\u001b[32m----> \u001b[39m\u001b[32m2\u001b[39m \u001b[43msearch_by_keyword\u001b[49m(\u001b[33m\"\u001b[39m\u001b[33mlearning\u001b[39m\u001b[33m\"\u001b[39m)\n",
      "\u001b[31mNameError\u001b[39m: name 'search_by_keyword' is not defined"
     ]
    }
   ],
   "source": [
    "print(\"TEST 7: Search by keyword 'learning'\")\n",
    "search_by_keyword(\"learning\")"
   ]
  },
  {
   "cell_type": "code",
   "execution_count": 32,
   "id": "0cc5d1bd-4b93-4893-9f79-51a6c257dffb",
   "metadata": {},
   "outputs": [],
   "source": [
    "def search_by_keyword(keyword):\n",
    "    results = []\n",
    "    for record in records:\n",
    "        in_title = keyword.lower() in record[\"title\"].lower()\n",
    "        in_tags = any(keyword.lower() in tag.lower() for tag in record[\"tags\"])\n",
    "        if in_title or in_tags:\n",
    "            results.append(record)\n",
    "    if results:\n",
    "        print(f\"Found {len(results)} record(s) containing keyword '{keyword}':\")\n",
    "        for r in results:\n",
    "            print(f\"- {r['title']} ({r['uri']})\")\n",
    "    else:\n",
    "        print(\"No records found matching the keyword.\")"
   ]
  },
  {
   "cell_type": "code",
   "execution_count": 33,
   "id": "d75cd08f-5efe-4d36-af02-aa719df0a53a",
   "metadata": {},
   "outputs": [
    {
     "name": "stdout",
     "output_type": "stream",
     "text": [
      "TEST 7: Search by keyword 'learning'\n",
      "Found 1 record(s) containing keyword 'learning':\n",
      "- Machine Learning Basics (https://ml-basics.org)\n"
     ]
    }
   ],
   "source": [
    "print(\"TEST 7: Search by keyword 'learning'\")\n",
    "search_by_keyword(\"learning\")"
   ]
  },
  {
   "cell_type": "code",
   "execution_count": 34,
   "id": "91fcd294-0214-4ef2-a919-c89064579639",
   "metadata": {},
   "outputs": [
    {
     "name": "stdout",
     "output_type": "stream",
     "text": [
      "TEST 8: Delete record by URI\n"
     ]
    },
    {
     "name": "stdin",
     "output_type": "stream",
     "text": [
      "Weet je zeker dat je het record 'Machine Learning Basics' wilt verwijderen? (ja/nee):  ja\\\n"
     ]
    },
    {
     "name": "stdout",
     "output_type": "stream",
     "text": [
      "❌ Verwijderen geannuleerd.\n"
     ]
    }
   ],
   "source": [
    "print(\"TEST 8: Delete record by URI\")\n",
    "delete_by_uri(\"https://ml-basics.org\")"
   ]
  },
  {
   "cell_type": "code",
   "execution_count": 35,
   "id": "1f9da30a-7e9f-4fa3-9277-49eed256253c",
   "metadata": {},
   "outputs": [
    {
     "name": "stdout",
     "output_type": "stream",
     "text": [
      "TEST 8: Delete record by URI\n"
     ]
    },
    {
     "name": "stdin",
     "output_type": "stream",
     "text": [
      "Weet je zeker dat je het record 'Machine Learning Basics' wilt verwijderen? (ja/nee):  ja\n"
     ]
    },
    {
     "name": "stdout",
     "output_type": "stream",
     "text": [
      "🗑️ Record verwijderd.\n"
     ]
    }
   ],
   "source": [
    "print(\"TEST 8: Delete record by URI\")\n",
    "delete_by_uri(\"https://ml-basics.org\")"
   ]
  },
  {
   "cell_type": "code",
   "execution_count": 36,
   "id": "ffeebf87-e445-47a6-bc09-0b254a18ffa9",
   "metadata": {},
   "outputs": [
    {
     "name": "stdout",
     "output_type": "stream",
     "text": [
      "TEST 9: Delete non-existent record\n",
      "⚠️ Geen record gevonden met deze URI.\n"
     ]
    }
   ],
   "source": [
    "print(\"TEST 9: Delete non-existent record\")\n",
    "delete_by_uri(\"https://thisuridoesnotexist.com\")"
   ]
  },
  {
   "cell_type": "code",
   "execution_count": 37,
   "id": "8f95ff62-7be2-4ab3-a850-f1a2a0713bf6",
   "metadata": {},
   "outputs": [
    {
     "name": "stdout",
     "output_type": "stream",
     "text": [
      "TEST 10: Sort by creation date (newest first)\n",
      "📋 Records gesorteerd op aanmaakdatum (nieuwste eerst):\n",
      "- 2025-04-01T10:18:49.961463 | Software Development (https://thecodingcompany.nl)\n",
      "- 2025-04-01T10:12:54.667642 | https://www.python.org (https://www.python.org)\n",
      "- 2025-04-01T10:10:26.055290 | Testing for Essex (https://my-course.co.uk)\n"
     ]
    }
   ],
   "source": [
    "print(\"TEST 10: Sort by creation date (newest first)\")\n",
    "sort_by_created_at_desc()"
   ]
  },
  {
   "cell_type": "code",
   "execution_count": 39,
   "id": "c182b306-746f-44e1-80be-f25418fbc7e8",
   "metadata": {},
   "outputs": [],
   "source": [
    "def edit_record(uri, new_title, new_tags):\n",
    "    for record in records:\n",
    "        if record[\"uri\"] == uri:\n",
    "            if new_title:\n",
    "                record[\"title\"] = new_title\n",
    "            if new_tags and 1 <= len(new_tags) <= 5:\n",
    "                record[\"tags\"] = new_tags\n",
    "            print(\"✅ Record successfully updated.\")\n",
    "            return\n",
    "    print(\"⚠️ Record not found.\")"
   ]
  },
  {
   "cell_type": "code",
   "execution_count": 40,
   "id": "facc8ec5-f645-489b-b12b-7c056a10955f",
   "metadata": {},
   "outputs": [
    {
     "name": "stdout",
     "output_type": "stream",
     "text": [
      "TEST 11: Edit record by URI\n",
      "⚠️ Record not found.\n"
     ]
    }
   ],
   "source": [
    "print(\"TEST 11: Edit record by URI\")\n",
    "edit_record(\n",
    "    \"https://www.thecodingcompany.nl\",\n",
    "    \"The Coding Company – Updated Title\",\n",
    "    [\"php\", \"development\", \"web\"]\n",
    ")"
   ]
  },
  {
   "cell_type": "code",
   "execution_count": 42,
   "id": "b430f8b7-021e-4dc9-adfd-466bc82f4a84",
   "metadata": {},
   "outputs": [
    {
     "name": "stdout",
     "output_type": "stream",
     "text": [
      "TEST 11: Edit record by URI\n",
      "✅ Record successfully updated.\n"
     ]
    }
   ],
   "source": [
    "print(\"TEST 11: Edit record by URI\");\n",
    "edit_record(\n",
    "    \"https://thecodingcompany.nl\",\n",
    "    \"New Title Coding\",\n",
    "    [\"tag1\", \"tag2\", \"tag5\"]\n",
    ")"
   ]
  },
  {
   "cell_type": "code",
   "execution_count": null,
   "id": "c814769b-d09f-462e-a1bd-98c44456b83b",
   "metadata": {},
   "outputs": [],
   "source": []
  }
 ],
 "metadata": {
  "kernelspec": {
   "display_name": "Python 3 (ipykernel)",
   "language": "python",
   "name": "python3"
  },
  "language_info": {
   "codemirror_mode": {
    "name": "ipython",
    "version": 3
   },
   "file_extension": ".py",
   "mimetype": "text/x-python",
   "name": "python",
   "nbconvert_exporter": "python",
   "pygments_lexer": "ipython3",
   "version": "3.13.2"
  }
 },
 "nbformat": 4,
 "nbformat_minor": 5
}
